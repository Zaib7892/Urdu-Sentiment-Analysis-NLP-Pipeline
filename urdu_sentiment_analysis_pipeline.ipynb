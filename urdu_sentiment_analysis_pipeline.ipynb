{
 "cells": [
  {
   "cell_type": "markdown",
   "id": "1627a6c7",
   "metadata": {},
   "source": [
    "# Preprocessing"
   ]
  },
  {
   "cell_type": "markdown",
   "id": "46b45f81",
   "metadata": {},
   "source": [
    "## Removing Stop Words"
   ]
  },
  {
   "cell_type": "code",
   "execution_count": 50,
   "id": "9651253c",
   "metadata": {},
   "outputs": [],
   "source": [
    "from LughaatNLP import LughaatNLP\n",
    "urdu_text_processing = LughaatNLP()\n",
    "import pandas as pd\n",
    "# Read data from the CSV file\n",
    "file_path = 'urdu_sarcastic_dataset.csv'  # Update with your actual file path\n",
    "df = pd.read_csv(file_path)"
   ]
  },
  {
   "cell_type": "code",
   "execution_count": 51,
   "metadata": {},
   "outputs": [],
   "source": [
    "with open(\"stop_words.txt\", 'r', encoding='utf-8') as file: #Taken stopwords data from \"https://github.com/SyedMuhammadMuhsinKarim/Urdu-Stop-Words/blob/main/stop_words.txt\"\n",
    "    urdu_stopwords = file.read().splitlines()\n",
    "# List of sentiment-carrying words that should not be removed\n",
    "sentiment_words = set([\n",
    "    \"نہیں\", \"برا\", \"اچھا\", \"ٹھیک\", \"بہت\", \"محبت\", \"نفرت\", \"پسند\", \n",
    "    \"زیادہ\", \"کم\", \"بہترین\"\n",
    "])\n",
    "\n",
    "# Function to remove stopwords\n",
    "def remove_stopwords(text):\n",
    "    if isinstance(text, str):  # Ensure the text is a string\n",
    "        # Split the text into words\n",
    "        words = text.split()\n",
    "        # Remove stopwords unless they are sentiment-carrying words\n",
    "        filtered_words = [word for word in words if word not in urdu_stopwords or word in sentiment_words]\n",
    "        # Join the filtered words back into a single string\n",
    "        return ' '.join(filtered_words)\n",
    "    return text  # Return original value if not a string"
   ]
  },
  {
   "cell_type": "code",
   "execution_count": 52,
   "id": "54a099ba",
   "metadata": {},
   "outputs": [
    {
     "name": "stdout",
     "output_type": "stream",
     "text": [
      "0                   🤣😂😂 شادی فسادن ٹھیک کوجی نہیں 😐😐😐🤣\n",
      "1     چل مہمانوں کھانا سرو چڑیل چاچی نوں دسدی آں میں😂😂\n",
      "2    کامران خان دن بھریہ زمہ داری لگائی اپوزیشن کرد...\n",
      "3                                         نہیں پائین 😎\n",
      "4          `` مراد علی شاہ بھیس ڈی جی ایس '' حامد میر😁\n",
      "Name: urdu_text, dtype: object\n"
     ]
    }
   ],
   "source": [
    "df['urdu_text'] = df['urdu_text'].apply(remove_stopwords)\n",
    "\n",
    "print(df['urdu_text'].head())"
   ]
  },
  {
   "cell_type": "markdown",
   "id": "ac0c5a51",
   "metadata": {},
   "source": [
    "## Reming URLs, Emojies, Hashtags"
   ]
  },
  {
   "cell_type": "code",
   "execution_count": 53,
   "id": "a02df228",
   "metadata": {},
   "outputs": [],
   "source": [
    "import re\n",
    "# Define a dictionary to translate emojis into sentiment\n",
    "emoji_sentiment = {\n",
    "    \"😊\": \"مثبت\",  # Positive\n",
    "    \"😢\": \"منفی\",  # Negative\n",
    "    \"😂\": \"مثبت\",  # Positive\n",
    "    \"😍\": \"مثبت\",  # Positive\n",
    "    \"😡\": \"منفی\",  # Negative\n",
    "    \"😭\": \"منفی\",  # Negative\n",
    "    \"👍\": \"مثبت\",  # Positive\n",
    "    \"👎\": \"منفی\",  # Negative\n",
    "    \"😎\": \"مثبت\",  # Positive\n",
    "    \"😔\": \"منفی\"   # Negative\n",
    "}\n",
    "\n",
    "def clean_text(text):\n",
    "    if isinstance(text, str):  # Ensure the text is a string\n",
    "        # Removing URLs\n",
    "        text = re.sub(r'http\\S+|www\\S+|https\\S+', '', text, flags=re.MULTILINE)\n",
    "        \n",
    "        # Removing hashtags\n",
    "        text = re.sub(r'#\\S+', '', text)  # Remove hashtags\n",
    "        \n",
    "        # Removing punctuation\n",
    "        text = re.sub(r'[^\\w\\s]', '', text)  # Remove punctuation\n",
    "        \n",
    "        # Translating emojis to sentiment\n",
    "        for emoji, sentiment in emoji_sentiment.items():\n",
    "            if emoji in text:\n",
    "                text = text.replace(emoji, sentiment)  # Replace emoji with its sentiment\n",
    "        text = re.sub(r'[\\U0001F600-\\U0001F64F]', '', text)  # Remove emojis from the emoticon range\n",
    "        text = re.sub(r'[\\U0001F300-\\U0001F5FF]', '', text)  # Remove miscellaneous symbols and pictographs\n",
    "        text = re.sub(r'[\\U0001F680-\\U0001F6FF]', '', text)  # Remove transport and map symbols\n",
    "        text = re.sub(r'[\\U0001F700-\\U0001F77F]', '', text)  # Remove alchemical symbols\n",
    "        text = re.sub(r'[\\U0001F900-\\U0001F9FF]', '', text)  # Remove supplemental symbols and pictographs\n",
    "        text = re.sub(r'[\\U00002700-\\U000027BF]', '', text)  # Remove dingbats\n",
    "        \n",
    "        return text  # Return cleaned text\n",
    "    return text  # Return original value if not a string"
   ]
  },
  {
   "cell_type": "code",
   "execution_count": 54,
   "id": "70a556d1",
   "metadata": {},
   "outputs": [
    {
     "name": "stdout",
     "output_type": "stream",
     "text": [
      "0                           شادی فسادن ٹھیک کوجی نہیں \n",
      "1       چل مہمانوں کھانا سرو چڑیل چاچی نوں دسدی آں میں\n",
      "2    کامران خان دن بھریہ زمہ داری لگائی اپوزیشن کرد...\n",
      "3                                          نہیں پائین \n",
      "4                مراد علی شاہ بھیس ڈی جی ایس  حامد میر\n",
      "Name: urdu_text, dtype: object\n"
     ]
    }
   ],
   "source": [
    "df[\"urdu_text\"] = df[\"urdu_text\"].apply(clean_text)\n",
    "# the cleaned text\n",
    "print(df['urdu_text'].head())"
   ]
  },
  {
   "cell_type": "markdown",
   "id": "07c16876",
   "metadata": {},
   "source": [
    "## Removing Short Conversations "
   ]
  },
  {
   "cell_type": "code",
   "execution_count": 55,
   "id": "d1ce5827",
   "metadata": {},
   "outputs": [],
   "source": [
    "# Function to filter out very short posts\n",
    "def filter_short_posts(text):\n",
    "    if isinstance(text, str):  # Ensure the text is a string\n",
    "        # Split the text into words\n",
    "        words = text.split()\n",
    "        # Check if the number of words is 3 or more\n",
    "        return len(words) >= 3\n",
    "    return False  # Return False if not a string\n"
   ]
  },
  {
   "cell_type": "code",
   "execution_count": 56,
   "id": "5319240e",
   "metadata": {},
   "outputs": [
    {
     "name": "stdout",
     "output_type": "stream",
     "text": [
      "0                               شادی فسادن ٹھیک کوجی نہیں \n",
      "1           چل مہمانوں کھانا سرو چڑیل چاچی نوں دسدی آں میں\n",
      "2        کامران خان دن بھریہ زمہ داری لگائی اپوزیشن کرد...\n",
      "4                    مراد علی شاہ بھیس ڈی جی ایس  حامد میر\n",
      "5                            قابل اعتبار قاتل اعتبار ہوتے \n",
      "                               ...                        \n",
      "19999    راجہ صاحب توڑ سنگ تکر چھڈیا ہن آواز نئی نکل رئ...\n",
      "20000                              بےبی پرائم منسٹر بن گئی\n",
      "20001                   اتنا بونگا وزیر اعظم ڈھونڈنے نہیں \n",
      "20002                        کاکا عدت نہیں  عوام تیری مدت \n",
      "20003    جتنا مرضی بلیک میل لیں این آر او نہیں دوں گاجت...\n",
      "Name: urdu_text, Length: 18394, dtype: object\n"
     ]
    }
   ],
   "source": [
    "\n",
    "df = df[df[\"urdu_text\"].apply(filter_short_posts)]\n",
    "print(df['urdu_text'])"
   ]
  },
  {
   "cell_type": "markdown",
   "id": "737a07a0",
   "metadata": {},
   "source": [
    "# Stemming and Lemmatization"
   ]
  },
  {
   "cell_type": "markdown",
   "id": "63def9ff",
   "metadata": {},
   "source": [
    "## Stemming"
   ]
  },
  {
   "cell_type": "code",
   "execution_count": 57,
   "id": "f80dcf1b",
   "metadata": {},
   "outputs": [
    {
     "name": "stdout",
     "output_type": "stream",
     "text": [
      "                                            urdu_text  \\\n",
      "0                          شادی فسادن ٹھیک کوجی نہیں    \n",
      "1      چل مہمانوں کھانا سرو چڑیل چاچی نوں دسدی آں میں   \n",
      "2   کامران خان دن بھریہ زمہ داری لگائی اپوزیشن کرد...   \n",
      "4               مراد علی شاہ بھیس ڈی جی ایس  حامد میر   \n",
      "5                       قابل اعتبار قاتل اعتبار ہوتے    \n",
      "6                         انساں تھکا دیتا سوچوں سفر     \n",
      "7                                 حامد میر صاحب ویلڈن   \n",
      "8   یار وچارہ ویلا ہوندا آرے ہویا ہے تسی تے پکے نج...   \n",
      "9                           سمجھتے پاکستان بیوقوف ھے    \n",
      "10                             تسی لڑاںی کروانی ساڈی    \n",
      "\n",
      "                                         stemmed_text  \n",
      "0                            شادی فسادن ٹھیک کوجی نہا  \n",
      "1         چل مہمانا کھانا سرو چڑیل چاچی نا دسدی آں ما  \n",
      "2   کامران خان دن بھریہ زمہ داری لگائی اپوزیشن کرد...  \n",
      "4                مراد علی شاہ بھیس ڈی جی ایس حامد میر  \n",
      "5                          قابل اعتبر قاتل اعتبر ہوتہ  \n",
      "6                             انساں تھکا دیت سوچا سفر  \n",
      "7                                 حامد میر صاحب ویلڈن  \n",
      "8   یار وچارہ ویلا ہوندا آرہ ہویا ہہ تسی تہ پکہ نج...  \n",
      "9                             سمجھتہ پاکستن بیوقوف ھہ  \n",
      "10                              تسی لڑاںی کروانی ساڈی  \n"
     ]
    }
   ],
   "source": [
    "\n",
    "def stem_text(sentence):\n",
    "     stemmed_sentence = urdu_text_processing.urdu_stemmer(sentence)\n",
    "     return stemmed_sentence\n",
    "\n",
    "# Applying the stemming to the 'urdu_text' column\n",
    "df['stemmed_text'] = df['urdu_text'].apply(stem_text)\n",
    "\n",
    "# the original and stemmed texts\n",
    "print(df[['urdu_text', 'stemmed_text']].head(10))\n"
   ]
  },
  {
   "cell_type": "markdown",
   "id": "50d998dc",
   "metadata": {},
   "source": [
    "## Lemmatization"
   ]
  },
  {
   "cell_type": "code",
   "execution_count": 58,
   "id": "224138dd",
   "metadata": {},
   "outputs": [
    {
     "name": "stdout",
     "output_type": "stream",
     "text": [
      "                                               urdu_text  \\\n",
      "0                             شادی فسادن ٹھیک کوجی نہیں    \n",
      "1         چل مہمانوں کھانا سرو چڑیل چاچی نوں دسدی آں میں   \n",
      "2      کامران خان دن بھریہ زمہ داری لگائی اپوزیشن کرد...   \n",
      "4                  مراد علی شاہ بھیس ڈی جی ایس  حامد میر   \n",
      "5                          قابل اعتبار قاتل اعتبار ہوتے    \n",
      "...                                                  ...   \n",
      "19999  راجہ صاحب توڑ سنگ تکر چھڈیا ہن آواز نئی نکل رئ...   \n",
      "20000                            بےبی پرائم منسٹر بن گئی   \n",
      "20001                 اتنا بونگا وزیر اعظم ڈھونڈنے نہیں    \n",
      "20002                      کاکا عدت نہیں  عوام تیری مدت    \n",
      "20003  جتنا مرضی بلیک میل لیں این آر او نہیں دوں گاجت...   \n",
      "\n",
      "                                         lemmatized_text  \n",
      "0                              شادی فسادن ٹھیک کوجی نہیں  \n",
      "1           چلنا مہمان کھا سرا چڑیل چاچی نوں دسدی آں میں  \n",
      "2      کامران خان دن بھریہ زمہ داری لگنا اپوزیشن کردا...  \n",
      "4                 مراد علی شاہ بھیس ڈی جینا ایس حامد میر  \n",
      "5                           قابل اعتبار قاتل اعتبار ہونا  \n",
      "...                                                  ...  \n",
      "19999  راجہ صاحب ٹوٹْنا سنگ تکر چھڈیا ہن آواز نئی نکل...  \n",
      "20000                         بےبی پرائم منسٹر بننا جانا  \n",
      "20001                  اتنا بونگا وزیر اعظم ڈھونڈنا نہیں  \n",
      "20002                       کاکا عدت نہیں عوام تیرنا مدت  \n",
      "20003  جتنا مرضی بلیک میل لینا این آر او نہیں دینا گا...  \n",
      "\n",
      "[18394 rows x 2 columns]\n"
     ]
    }
   ],
   "source": [
    "def lemmatize_sentence(sentence):\n",
    "    lemmatized_sentence = urdu_text_processing.lemmatize_sentence(sentence)\n",
    "    return lemmatized_sentence\n",
    "\n",
    "# Applying lemmatization to each sentence in the DataFrame\n",
    "df['lemmatized_text'] = df['urdu_text'].apply(lemmatize_sentence)\n",
    "\n",
    "print(df[['urdu_text', 'lemmatized_text']])"
   ]
  },
  {
   "cell_type": "markdown",
   "id": "96083557",
   "metadata": {},
   "source": [
    "# Feature Extraction from Urdu Text"
   ]
  },
  {
   "cell_type": "markdown",
   "id": "72ffa713",
   "metadata": {},
   "source": [
    "## Tokenization"
   ]
  },
  {
   "cell_type": "code",
   "execution_count": 59,
   "id": "05c3a6a9",
   "metadata": {},
   "outputs": [
    {
     "name": "stdout",
     "output_type": "stream",
     "text": [
      "                                     lemmatized_text  \\\n",
      "0                          شادی فسادن ٹھیک کوجی نہیں   \n",
      "1       چلنا مہمان کھا سرا چڑیل چاچی نوں دسدی آں میں   \n",
      "2  کامران خان دن بھریہ زمہ داری لگنا اپوزیشن کردا...   \n",
      "4             مراد علی شاہ بھیس ڈی جینا ایس حامد میر   \n",
      "5                       قابل اعتبار قاتل اعتبار ہونا   \n",
      "\n",
      "                                      tokenized_text  \n",
      "0                    [شادی, فسادن, ٹھیک, کوجی, نہیں]  \n",
      "1  [چلنا, مہمان, کھا, سرا, چڑیل, چاچی, نوں, دسدی,...  \n",
      "2  [کامران, خان, دن, بھریہ, زمہ, داری, لگنا, اپوز...  \n",
      "4   [مراد, علی, شاہ, بھیس, ڈی, جینا, ایس, حامد, میر]  \n",
      "5                 [قابل, اعتبار, قاتل, اعتبار, ہونا]  \n"
     ]
    }
   ],
   "source": [
    "def tokenize_urdu(text):\n",
    "    tokens = urdu_text_processing.urdu_tokenize(text)\n",
    "    return tokens\n",
    "\n",
    "df['tokenized_text'] = df['lemmatized_text'].apply(tokenize_urdu)\n",
    "\n",
    "print(df[['lemmatized_text', 'tokenized_text']].head(5))"
   ]
  },
  {
   "cell_type": "markdown",
   "id": "42363c09",
   "metadata": {},
   "source": [
    "## TF - IDF "
   ]
  },
  {
   "cell_type": "code",
   "execution_count": 60,
   "id": "b77abc37",
   "metadata": {},
   "outputs": [
    {
     "name": "stderr",
     "output_type": "stream",
     "text": [
      "c:\\Python312\\Lib\\site-packages\\sklearn\\feature_extraction\\text.py:521: UserWarning: The parameter 'token_pattern' will not be used since 'tokenizer' is not None'\n",
      "  warnings.warn(\n"
     ]
    },
    {
     "name": "stdout",
     "output_type": "stream",
     "text": [
      "       Term  TF-IDF Score\n",
      "17181  ہونا      0.032453\n",
      "12106  نہیں      0.028525\n",
      "2438    ایک      0.013616\n",
      "1551   اللہ      0.011632\n",
      "3148   بننا      0.011569\n",
      "2530    بات      0.011168\n",
      "5046   جینا      0.010781\n",
      "10057  لگنا      0.010322\n",
      "16857    ھے      0.010240\n",
      "5362    خان      0.010199\n"
     ]
    }
   ],
   "source": [
    "from sklearn.feature_extraction.text import TfidfVectorizer\n",
    "\n",
    "# Initialize the TF-IDF Vectorizer with the custom tokenizer\n",
    "vectorizer = TfidfVectorizer(tokenizer=tokenize_urdu)\n",
    "\n",
    "# Fit and transform the Urdu text data directly\n",
    "tfidf_matrix = vectorizer.fit_transform(df['lemmatized_text'])\n",
    "\n",
    "# Get the feature names (terms)\n",
    "feature_names = vectorizer.get_feature_names_out()\n",
    "\n",
    "# Calculate the mean TF-IDF scores for each term\n",
    "tfidf_scores = tfidf_matrix.mean(axis=0).A1\n",
    "\n",
    "# Create a DataFrame to hold terms and their scores\n",
    "tfidf_df = pd.DataFrame({'Term': feature_names, 'TF-IDF Score': tfidf_scores})\n",
    "\n",
    "# Sort the DataFrame by TF-IDF score in descending order and get the top 10 terms\n",
    "top_terms = tfidf_df.sort_values(by='TF-IDF Score', ascending=False).head(10)\n",
    "\n",
    "# Display the top 10 terms with their TF-IDF scores\n",
    "print(top_terms)"
   ]
  },
  {
   "cell_type": "markdown",
   "id": "de19b51b",
   "metadata": {},
   "source": [
    "## Word to Vec"
   ]
  },
  {
   "cell_type": "code",
   "execution_count": 61,
   "id": "8d35c4d6",
   "metadata": {},
   "outputs": [
    {
     "name": "stdout",
     "output_type": "stream",
     "text": [
      "Top 5 words similar to 'اچھا':\n",
      "لوگ: 0.9880\n",
      "ہونا: 0.9865\n",
      "انسان: 0.9815\n",
      "دل: 0.9799\n",
      "ہنسنا: 0.9769\n"
     ]
    }
   ],
   "source": [
    "from gensim.models import Word2Vec\n",
    "\n",
    "tokenized_corpus = df['tokenized_text'].tolist()\n",
    "\n",
    "# Training the Word2Vec model\n",
    "model = Word2Vec(sentences=tokenized_corpus, vector_size=100, window=5, min_count=1, sg=0)\n",
    "\n",
    "# Finding the top 5 most similar words to \"اچھا\"\n",
    "similar_words = model.wv.most_similar('اچھا', topn=5)\n",
    "\n",
    "# Displaying the results\n",
    "print(\"Top 5 words similar to 'اچھا':\")\n",
    "for word, similarity in similar_words:\n",
    "    print(f\"{word}: {similarity:.4f}\")\n"
   ]
  },
  {
   "cell_type": "markdown",
   "id": "e2e320b5",
   "metadata": {},
   "source": [
    "# N-grams Analysis"
   ]
  },
  {
   "cell_type": "markdown",
   "id": "1eb3cbe3",
   "metadata": {},
   "source": [
    "## Unigram, Bigram, and Trigram Analysis:"
   ]
  },
  {
   "cell_type": "code",
   "execution_count": 62,
   "id": "1fb9b7a2",
   "metadata": {},
   "outputs": [
    {
     "name": "stdout",
     "output_type": "stream",
     "text": [
      "Top 10 Bigrams:\n",
      "عمران خان: 506\n",
      "نواز شریف: 449\n",
      "نہیں ہونا: 317\n",
      "سندھ پولیس: 305\n",
      "ہونا ہونا: 224\n",
      "آرمی چیف: 223\n",
      "جزاک اللہ: 198\n",
      "خان صاحب: 182\n",
      "کیپٹن صفدر: 179\n",
      "اردو زبان: 170\n",
      "\n",
      "Top 10 Trigrams:\n",
      "صلی اللہ علیہ: 108\n",
      "اللہ علیہ وآلہ: 87\n",
      "علیہ وآلہ وسلم: 87\n",
      "پینا ڈی ایم: 86\n",
      "پٹواریوں کی مادرملت: 77\n",
      "جزاک اللہ خیر: 77\n",
      "فالو فالو بیک: 71\n",
      "بزدارکی پرواز بلاول: 60\n",
      "خاتم النبیین محمدﷺ: 57\n",
      "پرواز بلاول بیکار: 55\n"
     ]
    }
   ],
   "source": [
    "from nltk import ngrams\n",
    "from collections import Counter\n",
    "\n",
    "\n",
    "tokenized_corpus = df['tokenized_text'].tolist()\n",
    "\n",
    "# Flatten the list of tokenized sentences into a single list of words\n",
    "flat_tokens = [token for sublist in tokenized_corpus for token in sublist]\n",
    "\n",
    "# Creating bigrams\n",
    "bigrams = list(ngrams(flat_tokens, 2))\n",
    "\n",
    "# Creating trigrams\n",
    "trigrams = list(ngrams(flat_tokens, 3))\n",
    "\n",
    "# Calculating frequencies\n",
    "bigram_freq = Counter(bigrams)\n",
    "trigram_freq = Counter(trigrams)\n",
    "\n",
    "#10 most common bigrams and their frequencies\n",
    "top_10_bigrams = bigram_freq.most_common(10)\n",
    "\n",
    "#10 most common trigrams and their frequencies\n",
    "top_10_trigrams = trigram_freq.most_common(10)\n",
    "\n",
    "# Display results for bigrams\n",
    "print(\"Top 10 Bigrams:\")\n",
    "for bigram, freq in top_10_bigrams:\n",
    "    print(f\"{' '.join(bigram)}: {freq}\")\n",
    "\n",
    "# Display results for trigrams\n",
    "print(\"\\nTop 10 Trigrams:\")\n",
    "for trigram, freq in top_10_trigrams:\n",
    "    print(f\"{' '.join(trigram)}: {freq}\")"
   ]
  },
  {
   "cell_type": "markdown",
   "id": "d45cbca3",
   "metadata": {},
   "source": [
    "# Sentiment Classification Model"
   ]
  },
  {
   "cell_type": "markdown",
   "id": "f8fc5aa8",
   "metadata": {},
   "source": [
    "## Model Building"
   ]
  },
  {
   "cell_type": "code",
   "execution_count": 65,
   "id": "11d7facc",
   "metadata": {},
   "outputs": [
    {
     "name": "stderr",
     "output_type": "stream",
     "text": [
      "c:\\Python312\\Lib\\site-packages\\sklearn\\feature_extraction\\text.py:521: UserWarning: The parameter 'token_pattern' will not be used since 'tokenizer' is not None'\n",
      "  warnings.warn(\n"
     ]
    },
    {
     "name": "stdout",
     "output_type": "stream",
     "text": [
      "Accuracy: 0.81\n",
      "Precision: 0.81\n",
      "Recall: 0.81\n",
      "F1-score: 0.81\n"
     ]
    }
   ],
   "source": [
    "from sklearn.model_selection import train_test_split\n",
    "from sklearn.feature_extraction.text import TfidfVectorizer\n",
    "from sklearn.metrics import accuracy_score, precision_score, recall_score, f1_score\n",
    "from sklearn.svm import SVC\n",
    "\n",
    "# Split the dataset into training and testing sets\n",
    "X_train, X_test, y_train, y_test = train_test_split(\n",
    "    df['lemmatized_text'], df['is_sarcastic'], test_size=0.2, random_state=42\n",
    ")\n",
    "\n",
    "# Feature extraction using TF-IDF\n",
    "vectorizer = TfidfVectorizer(tokenizer=tokenize_urdu)\n",
    "X_train_tfidf = vectorizer.fit_transform(X_train)\n",
    "X_test_tfidf = vectorizer.transform(X_test)\n",
    "\n",
    "# using SVM\n",
    "model = SVC()\n",
    "model.fit(X_train_tfidf, y_train)\n",
    "\n",
    "# predictions\n",
    "y_pred = model.predict(X_test_tfidf)\n",
    "\n",
    "# Evaluating the model\n",
    "accuracy = accuracy_score(y_test, y_pred)\n",
    "precision = precision_score(y_test, y_pred, average='weighted')\n",
    "recall = recall_score(y_test, y_pred, average='weighted')\n",
    "f1 = f1_score(y_test, y_pred, average='weighted')\n",
    "\n",
    "# Display the results\n",
    "print(f\"Accuracy: {accuracy:.2f}\")\n",
    "print(f\"Precision: {precision:.2f}\")\n",
    "print(f\"Recall: {recall:.2f}\")\n",
    "print(f\"F1-score: {f1:.2f}\")\n"
   ]
  },
  {
   "cell_type": "markdown",
   "id": "42f16b26",
   "metadata": {},
   "source": [
    "# Evaluation &amp; Optimization"
   ]
  },
  {
   "cell_type": "markdown",
   "id": "743022d4",
   "metadata": {},
   "source": [
    "## Evaluation"
   ]
  },
  {
   "cell_type": "code",
   "execution_count": 66,
   "id": "760048a4",
   "metadata": {},
   "outputs": [
    {
     "data": {
      "image/png": "[encoded data removed]",
      "text/plain": [
       "<Figure size 800x600 with 2 Axes>"
      ]
     },
     "metadata": {},
     "output_type": "display_data"
    }
   ],
   "source": [
    "from sklearn.metrics import confusion_matrix\n",
    "import seaborn as sns\n",
    "import matplotlib.pyplot as plt\n",
    "\n",
    "# Computing confusion matrix\n",
    "cm = confusion_matrix(y_test, y_pred)\n",
    "\n",
    "# Plot confusion matrix\n",
    "plt.figure(figsize=(8, 6))\n",
    "sns.heatmap(cm, annot=True, fmt='d', cmap='Blues', \n",
    "            xticklabels=['Not Sarcastic', 'Sarcastic'], \n",
    "            yticklabels=['Not Sarcastic', 'Sarcastic'])\n",
    "plt.ylabel('Actual')\n",
    "plt.xlabel('Predicted')\n",
    "plt.title('Confusion Matrix')\n",
    "plt.show()\n"
   ]
  }
 ],
 "metadata": {
  "kernelspec": {
   "display_name": "Python 3 (ipykernel)",
   "language": "python",
   "name": "python3"
  },
  "language_info": {
   "codemirror_mode": {
    "name": "ipython",
    "version": 3
   },
   "file_extension": ".py",
   "mimetype": "text/x-python",
   "name": "python",
   "nbconvert_exporter": "python",
   "pygments_lexer": "ipython3",
   "version": "3.12.3"
  }
 },
 "nbformat": 4,
 "nbformat_minor": 5
}
